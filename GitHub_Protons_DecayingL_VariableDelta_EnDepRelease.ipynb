{
 "cells": [
  {
   "cell_type": "code",
   "execution_count": 1,
   "metadata": {},
   "outputs": [],
   "source": [
    "import os\n",
    "import pandas as pd     \n",
    "import numpy as np\n",
    "import math\n",
    "import scipy.integrate as integrate\n",
    "import matplotlib\n",
    "import matplotlib.pyplot as plt\n",
    "from matplotlib import rc, rcParams\n",
    "import matplotlib.ticker as mticker\n",
    "from scipy import interpolate\n",
    "from scipy.interpolate import griddata  \n",
    "from astropy.io import fits\n",
    "from astropy.modeling import models\n",
    "import pylab\n",
    "import sys      \n",
    "import time\n",
    "from scipy.optimize import minimize"
   ]
  },
  {
   "cell_type": "code",
   "execution_count": 2,
   "metadata": {},
   "outputs": [],
   "source": [
    "###############\n",
    "# LaTeX block #\n",
    "###############\n",
    "\n",
    "rc('text', usetex=True)\n",
    "rc('font',**{'family':'serif','serif':['Palatino']})\n",
    "rc('xtick', labelsize=18)\n",
    "rc('ytick', labelsize=18)\n",
    "rcParams['legend.numpoints'] = 1"
   ]
  },
  {
   "cell_type": "code",
   "execution_count": 3,
   "metadata": {},
   "outputs": [],
   "source": [
    "##################################\n",
    "# define some universal constant #\n",
    "##################################\n",
    "\n",
    "conv_factor_GeV_to_erg = 0.00160218     # the value in [GeV] has to be multipled by this factor\n",
    "conv_factor_erg_to_GeV = 624.151\n",
    "conv_factor_yr_to_sec = 31.56 * pow(10,6)\n",
    "conv_factor_pc_to_m = 3.086*pow(10,16)\n",
    "pc_cm = 3.0857e+18          # parsec in centimeters\n",
    "m_p = .939                      # proton mass in GeV/c^2\n",
    "m_e = 0.000510998918            # electron mass in GeV/c^2\n",
    "D_0 = 0.65 * pow(10,24)     # diffusion coefficient normalization factor, in [m^2 s^(-1)]: D(E)=D_0*(E/1GeV)^delta\n",
    "pi = math.pi\n",
    "c = 2.99 * pow(10,8)        # speed of light in [m sec^(-1)]\n",
    "b_0 = 1.4 * pow(10,-16)     # energy loss coefficient (due to IC scattering and synchrotron) in [GeV^(-1) s^(-1)]"
   ]
  },
  {
   "cell_type": "code",
   "execution_count": 4,
   "metadata": {},
   "outputs": [
    {
     "name": "stdout",
     "output_type": "stream",
     "text": [
      "The number of energy points is 200\n"
     ]
    }
   ],
   "source": [
    "##################################################################\n",
    "# define the parameters of the specific object I am considering #\n",
    "##################################################################\n",
    "    \n",
    "considered_objects = 3      # number of objects I am dealing with\n",
    "object_name = ['Sample 1','Sample 2','Sample 3'] \n",
    "\n",
    "\n",
    "r = np.zeros(considered_objects)\n",
    "multiplot_color = ['red','blue','green']\n",
    "\n",
    "\n",
    "# In the following lines I define the energy range of interest and its binning, in [GeV]\n",
    "start = 1.e-2\n",
    "stop = 1.e+6\n",
    "steps = 200     # 1000, to make the low-energy wiggles disappear\n",
    "print (\"The number of energy points is\", steps)\n",
    "\n",
    "E_e = np.logspace(np.log10(start), np.log10(stop), num=steps, endpoint=True)"
   ]
  },
  {
   "cell_type": "markdown",
   "metadata": {},
   "source": [
    "# <center>SNR evolution timescales\n",
    "\n",
    "$$\n",
    "\\begin{align}\n",
    "&\\bullet \\hspace{0.5cm} t_{\\mathrm{Sed, kyr}}  =  0.3 E_\\mathrm{SNR,51}^{-1/2} M_{\\mathrm{ej},\\odot} n_{T,1}^{-1/3} \\\\[10 pt]\n",
    "&\\bullet \\hspace{0.5cm} t_{\\mathrm{PDS, kyr}}  =  \\frac{36.1 e^{-1} E_\\mathrm{SNR,51}^{3/14}}{\\xi_n^{5/14} n_{T,1}^{4/7}} \\\\[10 pt]\n",
    "&\\bullet \\hspace{0.5cm} t_{\\mathrm{MCS, kyr}}  =  \\mathrm{min} \\left[ \\frac{61 v_\\mathrm{ej,8}^3}{\\xi_n^{9/14} n_{T,1}^{3/7} E_\\mathrm{SNR,51}^{3/14}}, \\frac{476}{(\\xi_n \\Phi_c)^{9/14}} \\right] t_\\mathrm{PDS, kyr} \\\\[10 pt]  &\\bullet \\hspace{0.5cm} t_{\\mathrm{merge, kyr}} =  153 \\left(\\frac{E_\\mathrm{SNR,51}^{1/14} n_{T,1}^{1/7} \\xi_n^{3/14}}{\\beta C_{06}} \\right)^{10/7} t_\\mathrm{MCS, kyr}\n",
    "\\end{align}\n",
    "$$"
   ]
  },
  {
   "cell_type": "code",
   "execution_count": 5,
   "metadata": {},
   "outputs": [
    {
     "name": "stdout",
     "output_type": "stream",
     "text": [
      "With n_T = 10.0\n",
      "\n",
      "t_Sed: 0.13924766500838337 [kyr] = 1.3924766501{\\times}10^{2} [yr]\n",
      "\n",
      "t_PDS: 3.5627401543017463 [kyr] = 3.5627401543{\\times}10^{3} [yr]\n",
      "\n",
      "t_MCS: 1695.8643134476313 [kyr] = 1.6958643134{\\times}10^{6} [yr]\n",
      "\n",
      "t_merge: 154213.11645933276 [kyr] = 1.5421311646{\\times}10^{8} [yr]\n",
      "\n"
     ]
    }
   ],
   "source": [
    "#### Block to compute the timescales ####\n",
    "\n",
    "\n",
    "## Source parameters ##\n",
    "E_SNR = 1.    # in units [10^51 erg]\n",
    "M_ej = 1.     # in units [1 solar masses]\n",
    "n_T = 10.     # in units [1 cm^{-3}]\n",
    "csi_n = 1.    # ambient medium metallicity\n",
    "v_ej = 10.    # in units [10^8 cm/s]\n",
    "phi_c = 1.    # thermal plasma conductivity\n",
    "beta = 2. \n",
    "C_06 = 1.\n",
    "\n",
    "## Timescales, calculated in [kyr] ##\n",
    "t_Sed_kyr = 0.3 * E_SNR**(-1/2) * M_ej * n_T**(-1/3)\n",
    "t_PDS_kyr = ( (36.1/np.exp(1)) * E_SNR**(3/14) ) / (csi_n**(5/14) * n_T**(4/7))\n",
    "t_MCS_kyr = min( (61 * v_ej**3) / ( csi_n**(9/14) * n_T**(3/7) * E_SNR**(3/14) ), 476 / (csi_n * phi_c)**(9/14) ) * t_PDS_kyr\n",
    "t_merge_kyr = 153 * ( ( E_SNR**(1/14) * n_T**(1/7) * csi_n**(3/14) ) / (beta * C_06) )**(10/7) * t_MCS_kyr\n",
    "\n",
    "\n",
    "f = mticker.ScalarFormatter(useMathText=False)\n",
    "f.set_powerlimits((-5,5))\n",
    "\n",
    "\n",
    "print (\"With n_T =\", n_T)\n",
    "print (\"\")\n",
    "print (\"t_Sed:\", t_Sed_kyr, \"[kyr] =\", \"{}\".format(f.format_data( t_Sed_kyr*1000. )), \"[yr]\")\n",
    "print (\"\")\n",
    "print (\"t_PDS:\", t_PDS_kyr, \"[kyr] =\", \"{}\".format(f.format_data( t_PDS_kyr*1000. )), \"[yr]\")\n",
    "print (\"\")\n",
    "print (\"t_MCS:\", t_MCS_kyr, \"[kyr] =\", \"{}\".format(f.format_data( t_MCS_kyr*1000. )), \"[yr]\")\n",
    "print (\"\")\n",
    "print (\"t_merge:\", t_merge_kyr, \"[kyr] =\", \"{}\".format(f.format_data( t_merge_kyr*1000. )), \"[yr]\")\n",
    "print (\"\")"
   ]
  },
  {
   "cell_type": "code",
   "execution_count": 6,
   "metadata": {},
   "outputs": [],
   "source": [
    "## Time arrays ##\n",
    "\n",
    "time_start = t_Sed_kyr\n",
    "time_stop = t_merge_kyr\n",
    "t_range_release = np.logspace(np.log10(time_start), np.log10(time_stop), num=len(E_e))  # in [kyr]\n",
    "\n",
    "\n",
    "t_range_Sed_index = np.argmin(abs(t_Sed_kyr - t_range_release))\n",
    "t_range_PDS_index = np.argmin(abs(t_PDS_kyr - t_range_release))\n",
    "t_range_MCS_index = np.argmin(abs(t_MCS_kyr - t_range_release))\n",
    "t_range_merge_index = np.argmin(abs(t_merge_kyr - t_range_release))"
   ]
  },
  {
   "cell_type": "markdown",
   "metadata": {},
   "source": [
    "# <center> Escape-energy time-evolution for Protons\n",
    "    \n",
    "$$\n",
    "\\begin{align}\n",
    "&\\bullet \\hspace{0.5cm} \\ln \\left( \\frac{E_{\\mathrm{esc, Cur}}(t)}{m_p c^2} \\right) \\cdot E_{\\mathrm{esc, Cur}}(t) = E_{\\mathrm{M}} (t_{\\mathrm{Sed}}) \\left( \\frac{t}{t_{\\mathrm{Sed}}} \\right)^{-6/5}\\\\[10pt]\n",
    "&\\bullet \\hspace{0.5cm} E_{\\mathrm{esc, Geo, 1}} = E_{\\mathrm{M}} (t_{\\mathrm{PDS}}) \\left( \\frac{t}{t_{\\mathrm{PDS}}} \\right)^{-11/10} = E_{\\mathrm{esc, Cur}} (t_{\\mathrm{PDS}}) \\left( \\frac{t}{t_{\\mathrm{PDS}}} \\right)^{-11/10}\\\\[10pt]\n",
    "&\\bullet \\hspace{0.5cm} E_{\\mathrm{esc, Geo, 2}} = E_{\\mathrm{M}} (t_{\\mathrm{MCS}}) \\left( \\frac{t}{t_{\\mathrm{MCS}}} \\right)^{-5/4} = E_{\\mathrm{esc, Geo, 1}} (t_{\\mathrm{MCS}}) \\left( \\frac{t}{t_{\\mathrm{MCS}}} \\right)^{-5/4}\n",
    "\\end{align}\n",
    "$$"
   ]
  },
  {
   "cell_type": "code",
   "execution_count": 7,
   "metadata": {},
   "outputs": [
    {
     "name": "stdout",
     "output_type": "stream",
     "text": [
      "Log(E_min / m_p) * E_min = 13878450.357738148 [GeV]\n",
      "\n",
      "Log(E_SedPDS / m_p) * E_SedPDS = 292228.0260105384 [GeV]\n",
      "\n",
      "Convergence status: True\n",
      "E_Sed-PDS = 28331.320732125278 [GeV]\n",
      "\n",
      "E_PDS-MCS = 30.945163184997377 [GeV]\n",
      "\n",
      "E_MCS-merge = 0.1101995983372509 [GeV]\n",
      "\n"
     ]
    }
   ],
   "source": [
    "### Block to compute the energy vs time evolution, for PROTONS ###\n",
    "\n",
    "E_min_escape = 1.e+6            # 1 PeV, in [GeV]\n",
    "delta_SedPDS = -6/5\n",
    "delta_PDSMCS = -11/10\n",
    "delta_MCSMerge = -5/4\n",
    "\n",
    "\n",
    "#################\n",
    "## Sedov phase ##\n",
    "#################\n",
    "ln_E_min_escape_times_E = np.log(E_min_escape / m_p) * E_min_escape\n",
    "print (\"Log(E_min / m_p) * E_min =\", ln_E_min_escape_times_E, \"[GeV]\")\n",
    "print (\"\")\n",
    "\n",
    "\n",
    "ln_E_times_E_SedPDS = ln_E_min_escape_times_E * (t_range_release[t_range_PDS_index] / t_Sed_kyr)**delta_SedPDS\n",
    "print (\"Log(E_SedPDS / m_p) * E_SedPDS =\", ln_E_times_E_SedPDS, \"[GeV]\")\n",
    "print (\"\")\n",
    "\n",
    "\n",
    "# Solve the transcendental equation #\n",
    "#####################################\n",
    "def opt_fun(x, c):\n",
    "    return (np.log(x / m_p) * x - c)**2\n",
    "\n",
    "const = ln_E_times_E_SedPDS\n",
    "res = minimize(lambda x: opt_fun(x, const), x0=1.e+5)\n",
    "\n",
    "print(\"Convergence status:\", res.success)                       # Check if the optimization was successful\n",
    "E_SedPDS = res.x[0]                      # Extract the root from the minimization result\n",
    "\n",
    "print(\"E_Sed-PDS =\", E_SedPDS, \"[GeV]\")   # Escape-energy at the edge between the Sedov phase and the PD stage\n",
    "print (\"\")\n",
    "#####################################\n",
    "\n",
    "\n",
    "#################################\n",
    "## Pressure-driven phase (PDS) ##\n",
    "#################################\n",
    "E_PDSMCS = E_SedPDS * (t_range_release[t_range_MCS_index] / t_PDS_kyr)**delta_PDSMCS\n",
    "print (\"E_PDS-MCS =\", E_PDSMCS, \"[GeV]\")  # Escape-energy at the edge between the PD stage and the MC stage\n",
    "print (\"\")\n",
    "\n",
    "\n",
    "#######################################\n",
    "## Momentum-conservation phase (MCS) ##\n",
    "#######################################\n",
    "E_MCSMerge = E_PDSMCS * (t_range_release[t_range_merge_index] / t_MCS_kyr)**delta_MCSMerge\n",
    "print (\"E_MCS-merge =\", E_MCSMerge, \"[GeV]\")  # Escape-energy at the edge between the MC stage and the merge phase\n",
    "print (\"\")"
   ]
  },
  {
   "cell_type": "code",
   "execution_count": 8,
   "metadata": {},
   "outputs": [
    {
     "data": {
      "text/plain": [
       "Text(0, 0.5, '$E_{\\\\mathrm{esc}}$ [GeV]')"
      ]
     },
     "execution_count": 8,
     "metadata": {},
     "output_type": "execute_result"
    },
    {
     "name": "stderr",
     "output_type": "stream",
     "text": [
      "/usr/local/lib/python3.7/site-packages/matplotlib/font_manager.py:1241: UserWarning: findfont: Font family ['serif'] not found. Falling back to DejaVu Sans.\n",
      "  (prop.get_family(), self.defaultFamily[fontext]))\n",
      "/usr/local/lib/python3.7/site-packages/matplotlib/font_manager.py:1241: UserWarning: findfont: Font family ['serif'] not found. Falling back to DejaVu Sans.\n",
      "  (prop.get_family(), self.defaultFamily[fontext]))\n"
     ]
    },
    {
     "data": {
      "image/png": "[encoded data removed]",
      "text/plain": [
       "<Figure size 432x288 with 1 Axes>"
      ]
     },
     "metadata": {
      "needs_background": "light"
     },
     "output_type": "display_data"
    }
   ],
   "source": [
    "## Block to compute the array of escape energies during all the stages for PROTONS ##\n",
    "\n",
    "\n",
    "#################\n",
    "## Sedov phase ##\n",
    "#################\n",
    "ln_E_times_E = np.zeros(t_range_PDS_index)\n",
    "E_esc_Sed_phase = np.zeros(t_range_PDS_index)\n",
    "\n",
    "\n",
    "ln_E_times_E[0] = ln_E_min_escape_times_E\n",
    "const_temp = ln_E_times_E[0]\n",
    "res = minimize(lambda x: opt_fun(x, const_temp), x0=1.e+5)\n",
    "E_esc_Sed_phase[0] = res.x[0]\n",
    "\n",
    "for i in range(1, t_range_PDS_index):\n",
    "    \n",
    "    ln_E_times_E[i] = ln_E_times_E[i-1] * (t_range_release[t_range_Sed_index + i] / t_range_release[t_range_Sed_index + (i-1)])**delta_SedPDS\n",
    "    \n",
    "    const_temp = ln_E_times_E[i]\n",
    "    res = minimize(lambda x: opt_fun(x, const_temp), x0=1.e+5)\n",
    "    E_esc_Sed_phase[i] = res.x[0]\n",
    "\n",
    "\n",
    "\n",
    "#################################\n",
    "## Pressure-driven phase (PDS) ##\n",
    "#################################\n",
    "E_esc_PDS_phase = np.zeros(t_range_MCS_index - t_range_PDS_index)\n",
    "\n",
    "E_esc_PDS_phase[0] = E_esc_Sed_phase[-1]\n",
    "for i in range (1, t_range_MCS_index - t_range_PDS_index):\n",
    "    \n",
    "    E_esc_PDS_phase[i] = E_esc_PDS_phase[i-1] * (t_range_release[t_range_PDS_index + i] / t_range_release[t_range_PDS_index + (i-1)])**delta_PDSMCS\n",
    "\n",
    "\n",
    "\n",
    "#######################################\n",
    "## Momentum-conservation phase (MCS) ##\n",
    "#######################################\n",
    "E_esc_MCS_phase = np.zeros(t_range_merge_index - t_range_MCS_index + 1)\n",
    "\n",
    "E_esc_MCS_phase[0] = E_esc_PDS_phase[-1]\n",
    "for i in range (1, t_range_merge_index - t_range_MCS_index):\n",
    "    \n",
    "    E_esc_MCS_phase[i] = E_esc_MCS_phase[i-1] * (t_range_release[t_range_MCS_index + i] / t_range_release[t_range_MCS_index + (i-1)])**delta_MCSMerge\n",
    "\n",
    "\n",
    "\n",
    "Escape_energy_vs_time = np.concatenate([E_esc_Sed_phase, E_esc_PDS_phase, E_esc_MCS_phase], axis=None)\n",
    "\n",
    "\n",
    "plt.loglog(t_range_release, Escape_energy_vs_time)\n",
    "plt.xlabel('t [kyr]')\n",
    "plt.ylabel('$E_{\\mathrm{esc}}$ [GeV]')"
   ]
  },
  {
   "cell_type": "markdown",
   "metadata": {},
   "source": [
    "# <center>Propagated spectrum \n",
    "\n",
    "### $\\bullet$ Equation $\\&$ General Solution:\n",
    "\n",
    "$$\\begin{align}\n",
    "&\\frac{\\partial f(E,t,r)}{\\partial t} = \\frac{D(E)}{r^2} \\frac{\\partial}{\\partial r} r^2 \\frac{\\partial f}{\\partial r} + \\frac{\\partial}{\\partial E} (b(E) f) + Q \\quad \\Rightarrow \\\\[10 pt]\n",
    "&\\Rightarrow \\quad f(r,t,E) = \\frac{Q(E) }{\\pi^{3/2} r^3_{\\textrm{diff}}} \\cdot e^{-\\frac{r^2}{r^2_{\\textrm{diff}}}}\n",
    "\\end{align}$$\n",
    "\n",
    "\n",
    "### $\\bullet$ Solution for decaying luminosity:\n",
    "\n",
    "$$\\begin{align}\n",
    "&f(r,t_{\\mathrm{age}},E) = \\int_{t_{\\mathrm{rel}}}^{t_{\\mathrm{age}}} dt' \\frac{S(E) L(t) }{\\pi^{3/2} r_{\\mathrm{diff}}^3(E)} \\cdot e^{-\\frac{r^2}{r^2_{\\mathrm{diff}}}} \\\\[10 pt]\n",
    "&r^2_{\\textrm{diff}} (E) \\equiv 4 D(E) \\, ( t_{\\mathrm{age}} - t_{\\mathrm{rel}}) \\\\[10 pt]\n",
    "&L(t) = \\frac{ L_0 }{ \\left(  1 + \\frac{t}{\\tau_{\\text{d}}}  \\right)^{\\alpha_{\\text{d}}}}\n",
    "\\end{align}$$\n",
    "\n",
    "### $\\bullet$ [Tomassetti, APJ vol. 752, n. 1 (2012)] ###\n",
    "    \n",
    "$$\n",
    "\\begin{align}\n",
    "&\\delta(\\rho) \\approx \\delta_{\\mathrm{high}} + \\frac{\\Delta}{1 + \\frac{\\xi}{1 - \\xi} \\left( \\frac{\\rho}{\\rho_0} \\right)^{\\Delta}} \\\\[10 pt]\n",
    "&\\delta_{\\mathrm{high}} = 1/6, \\qquad \\Delta = 0.55, \\qquad \\rho_0 = 2 \\, \\mathrm{GV}, \\qquad \\xi = 0.1 \\\\[10 pt]\n",
    "&\\rho = \\frac{\\sqrt{E_{k}^2 + 2 m_p E_{k}}}{Z}, \\qquad E_{k} = \\sqrt{(ZR)^2 + m_p^2} - m_p, \\qquad E_{k} \\equiv \\mathrm{kinetic \\; energy \\; per \\; nucleon.} \n",
    "\\end{align}\n",
    "$$\n"
   ]
  },
  {
   "cell_type": "code",
   "execution_count": 9,
   "metadata": {
    "scrolled": false
   },
   "outputs": [
    {
     "name": "stdout",
     "output_type": "stream",
     "text": [
      "Minimum slope for D(E): 0.17046221519940832\n",
      "Maximum slope for D(E): 0.7030041811298965\n",
      "\n"
     ]
    },
    {
     "name": "stderr",
     "output_type": "stream",
     "text": [
      "/usr/local/lib/python3.7/site-packages/matplotlib/font_manager.py:1241: UserWarning: findfont: Font family ['serif'] not found. Falling back to DejaVu Sans.\n",
      "  (prop.get_family(), self.defaultFamily[fontext]))\n"
     ]
    },
    {
     "data": {
      "image/png": "[encoded data removed]",
      "text/plain": [
       "<Figure size 792x504 with 1 Axes>"
      ]
     },
     "metadata": {
      "needs_background": "light"
     },
     "output_type": "display_data"
    }
   ],
   "source": [
    "### Building the diffusion coefficient from Tomassetti THMb ###\n",
    "\n",
    "rigidity_array_D = np.sqrt(E_e**2 + 2*m_p * E_e)\n",
    "\n",
    "\n",
    "### Parameters to implement the variable slope from Tomassetti ###\n",
    "##################################################################\n",
    "ref_rigidity_tomassetti = 2.   # in [GV]\n",
    "delta_HIGH_tomassetti = 1./6.\n",
    "Delta_tomassetti = 0.55\n",
    "csi_tomassetti = 0.1\n",
    "ref_E_0 = 1.                   # in [GeV]: D(E) = D_0 (E/E_0)^delta\n",
    "\n",
    "ref_energy_tomassetti = np.sqrt(ref_rigidity_tomassetti**2 + m_p**2) - m_p   # in [GeV]\n",
    "\n",
    "\n",
    "delta_tomassetti_variable = delta_HIGH_tomassetti + Delta_tomassetti / ( 1 + ( csi_tomassetti/(1-csi_tomassetti) ) * pow( rigidity_array_D[:len(E_e)-1] / ref_rigidity_tomassetti, Delta_tomassetti) )                \n",
    "print (\"Minimum slope for D(E):\", min(delta_tomassetti_variable))\n",
    "print (\"Maximum slope for D(E):\", max(delta_tomassetti_variable))\n",
    "print (\"\")\n",
    "\n",
    "D_0_low = D_0 * (min(E_e) / ref_E_0)**(max(delta_tomassetti_variable))\n",
    "\n",
    "\n",
    "D_next = np.zeros(len(E_e))\n",
    "for iD in range(len(E_e)):\n",
    "    if iD == 0:\n",
    "        D_next[iD] = D_0_low\n",
    "    else:\n",
    "        D_next[iD] = D_next[iD-1] * (E_e[iD] / E_e[iD-1])**delta_tomassetti_variable[iD-1]\n",
    "\n",
    "##################################################################\n",
    "\n",
    "\n",
    "plt.figure(figsize=(11,7))\n",
    "\n",
    "\n",
    "ax = plt.gca()\n",
    "ax.tick_params(axis='both', which='major', labelsize=26)\n",
    "ax.tick_params(axis='both', which='minor', labelsize=26)\n",
    "ax.xaxis.set_tick_params(pad=7)\n",
    "ax.xaxis.labelpad = 7\n",
    "\n",
    "\n",
    "\n",
    "plt.loglog(E_e, D_next, lw=3, label='Tomassetti, ApJ vol. 752, n. 1 (2012)', color='blue')\n",
    "plt.text(1.e-1, 6.e+22, '$\\sim E^{0.67}$', fontsize=22)\n",
    "plt.text(2.e+4, 2.e+25, '$\\sim E^{0.17}$', fontsize=22)\n",
    "plt.legend(frameon=False, fontsize = 20)\n",
    "plt.xlabel('E [GeV]', fontsize=27)\n",
    "plt.ylabel('$D(E) \\, \\mathrm{[m^2 \\, s^{-1}]}$', fontsize=27)\n",
    "\n",
    "\n",
    "plt.savefig('Diffusion_coefficient_Tomassetti.pdf',format='pdf',bbox_inches='tight', dpi=200)"
   ]
  },
  {
   "cell_type": "code",
   "execution_count": 10,
   "metadata": {
    "scrolled": false
   },
   "outputs": [
    {
     "name": "stdout",
     "output_type": "stream",
     "text": [
      "I am examining the object Sample 1\n",
      "I am examining the object Sample 2\n",
      "I am examining the object Sample 3\n",
      "12.351852999999998 seconds\n"
     ]
    }
   ],
   "source": [
    "#############################\n",
    "# Calculating the integrand #\n",
    "#############################\n",
    "\n",
    "\n",
    "################\n",
    "object_age = [1.5*pow(10,5), 2.*pow(10,5), 2.5*pow(10,5)]   # age, in [yr]\n",
    "\n",
    "gamma_inj = 2.1     \n",
    "alpha_dec = 2.          \n",
    "tau_dec = 1.e+5         \n",
    "r_kpc = [0.35,0.35,0.35]   \n",
    "N_0 = 2.e+40\n",
    "Exp_cutoff = 2.3e+4\n",
    "################\n",
    "\n",
    "\n",
    "start = time.process_time()\n",
    "\n",
    "\n",
    "\n",
    "steps_t_integral = 2000  # 2000, to make the high-energy wiggles disappear\n",
    "int_var_length = 50\n",
    "\n",
    "result_integrand_matrix = np.zeros( (  considered_objects,len(E_e),steps_t_integral  ) )\n",
    "t_integral = np.zeros( (considered_objects, steps_t_integral) )\n",
    "\n",
    "\n",
    "for i in range(considered_objects):\n",
    "    \n",
    "    print (\"I am examining the object\",object_name[i])\n",
    "    r[i] = r_kpc[i]*1000*conv_factor_pc_to_m    # distance of the object, in [m]\n",
    "    \n",
    "    \n",
    "\n",
    "#######################################################################################################\n",
    "# given the parameters found for the specfic object, I now define the functions plotting the spectrum #\n",
    "#######################################################################################################\n",
    "\n",
    "    start_time = 1.0\n",
    "    stop_time = object_age[i]*conv_factor_yr_to_sec\n",
    "    t_integral[i] = np.logspace(np.log10(start_time), np.log10(stop_time), num=steps_t_integral, endpoint=True)\n",
    "\n",
    "    \n",
    "###### Section dedicated to the calculation of the integral giving the spectrum #######\n",
    "\n",
    "## The following matrix keeps track of the different instants of life (along the columns) of the particles of a certain measured energy (in the rows) ##\n",
    "    exponential_cutoff = np.zeros(len(E_e))\n",
    "    numerator_no_loss_matrix = np.zeros( (  len(E_e),len(t_integral[i])  ) )\n",
    "    exponential_factor_matrix = np.zeros( (  len(E_e),len(t_integral[i])  ) )\n",
    "    denominator_matrix = np.zeros( (  len(E_e),len(t_integral[i])  ) )\n",
    "    r_diff_square = np.zeros( (  len(E_e),len(t_integral[i])  ) )\n",
    "    \n",
    "    \n",
    "    for e in range(len(E_e)):\n",
    "        \n",
    "        ## When this energy is released\n",
    "        t_rel_E = t_range_release[np.argmin(abs(E_e[e] - Escape_energy_vs_time))]\n",
    "        \n",
    "        \n",
    "        for t in range(len(t_integral[i])):\n",
    "            \n",
    "            numerator_no_loss_matrix[e][t] = N_0 * pow( E_e[e]/ref_E_0 , -gamma_inj ) * ( 1 / pow( 1 + t_integral[i][t]/(tau_dec*conv_factor_yr_to_sec) , alpha_dec) )   \n",
    "            exponential_cutoff[e] = np.exp( - (E_e[e]*ref_E_0) / Exp_cutoff)\n",
    "            r_diff_square[e][t] = 4 * D_next[e] * (object_age[i]*conv_factor_yr_to_sec - t_integral[i][t])\n",
    "            exponential_factor_matrix[e][t] = np.exp( - pow( r[i], 2) / r_diff_square[e][t])\n",
    "            denominator_matrix[e][t] = pow( pi * r_diff_square[e][t] , 3/2 )\n",
    "\n",
    "            if (t_integral[i][t] >= t_rel_E*1.e+3*conv_factor_yr_to_sec):\n",
    "                result_integrand_matrix[i][e][t] = (tau_dec*conv_factor_yr_to_sec) * (c/(4*pi)) * (numerator_no_loss_matrix[e][t] * exponential_factor_matrix[e][t] * exponential_cutoff[e]) / denominator_matrix[e][t]\n",
    "\n",
    "print (time.process_time() - start, \"seconds\")  \n",
    "                \n",
    "## Now I have an integrand matrix that contains the current energy-values in the rows and the different release-times in the columns ##\n"
   ]
  },
  {
   "cell_type": "code",
   "execution_count": 11,
   "metadata": {},
   "outputs": [
    {
     "data": {
      "image/png": "[encoded data removed]",
      "text/plain": [
       "<Figure size 936x648 with 1 Axes>"
      ]
     },
     "metadata": {
      "needs_background": "light"
     },
     "output_type": "display_data"
    }
   ],
   "source": [
    "plt.figure(figsize=(13,9))\n",
    "\n",
    "\n",
    "J_e = np.zeros( (considered_objects,len(E_e)) )  \n",
    "\n",
    "\n",
    "for i in range(considered_objects):\n",
    "    for e in range(len(E_e)):\n",
    "        J_e[i][e] = integrate.trapz(result_integrand_matrix[i][e], t_integral[i]/(tau_dec*conv_factor_yr_to_sec))\n",
    "\n",
    "\n",
    "f = mticker.ScalarFormatter(useMathText=True)\n",
    "f.set_powerlimits((-5,5))\n",
    "object_age_latex = []\n",
    "for i in range(considered_objects):\n",
    "    object_age_latex.append(\"${}$\".format(f.format_data(object_age[i])))\n",
    "    \n",
    "\n",
    "legend_label = []\n",
    "for i in range(considered_objects):\n",
    "    legend_label.append( '$t_{\\mathrm{age}} = \\,$' + str(object_age_latex[i]) + '$\\, \\mathrm{yr}, \\, d = \\,$' + str(int(r_kpc[i]*1000)) + '$\\, \\mathrm{pc}$')\n",
    "\n",
    "\n",
    "for i in range(considered_objects):\n",
    "    plt.plot(E_e, (J_e[i])*(E_e**(2.7)), lw=2., color=multiplot_color[i], label=legend_label[i])\n",
    "    \n",
    "plt.plot(E_e, (J_e[1])*(E_e**(2.7)), lw=3, color='blue')\n",
    "\n",
    "\n",
    "ax = plt.gca()\n",
    "ax.tick_params(axis='both', which='major', labelsize=27)\n",
    "ax.tick_params(axis='both', which='minor', labelsize=27)\n",
    "ax.xaxis.set_tick_params(pad=7)\n",
    "ax.xaxis.labelpad = 7\n",
    "\n",
    "\n",
    "\n",
    "plt.legend(fontsize = 20, loc='best', frameon=False) \n",
    "\n",
    "plt.ylim(1.e1, 2.e+5)\n",
    "plt.xscale('log')\n",
    "plt.yscale('log')\n",
    "plt.xlabel(r'$E_{k} \\, [\\mathrm{GeV}]$',fontsize=27)\n",
    "plt.ylabel(r'$E_{k}^{2.7} \\cdot \\Phi_{p}(E) \\, [\\mathrm{GeV}^2 \\, \\mathrm{m}^{-2} \\, \\mathrm{s}^{-1} \\, \\mathrm{sr}^{-1}]$',fontsize=27)\n",
    "\n",
    "\n",
    "plt.savefig('Protons_DifferentAges_VariableDelta_EnDepRelease.pdf',format='pdf',bbox_inches='tight', dpi=200)\n"
   ]
  },
  {
   "cell_type": "markdown",
   "metadata": {},
   "source": [
    "# <center>Total energy budget of the source\n",
    "    \n",
    "$$\n",
    "\\begin{align}\n",
    "E_{\\mathrm{tot}} &= \\int d^3 \\vec{r} \\int^{t_{\\mathrm{age}}}_{t_{\\mathrm{rel}}} dt \\int_0^{+ \\infty} dE \\, E \\cdot Q(E, \\vec{r}, t), \\qquad \\qquad \\qquad Q(E, \\vec{r}, t) = S_0 \\left( \\frac{E}{E_0} \\right)^{-\\Gamma_{\\mathrm{inj}}} e^{-E/E_{\\mathrm{cut}}} \\, \\delta(\\vec{r}) \\, L(t) \\\\[10 pt]\n",
    "&= L_0 \\, E_0^2 \\, S_0 \\cdot \\tau_{\\mathrm{d}} \\int^{+ \\infty}_{0} d\\omega \\cdot \\omega^{-\\Gamma_{\\mathrm{inj}} + 1 } e^{-\\frac{E_0}{E_{\\mathrm{cut}}} \\omega} \\int^{t_{\\mathrm{age}}}_{t_{\\mathrm{rel}}(\\omega)} dz \\, \\frac{1}{\\left( 1 + z \\right)^{\\alpha}} \\\\[10 pt]\n",
    "&= N_0 \\cdot \\tau_{\\mathrm{d}} \\int^{+ \\infty}_{0} d\\omega \\cdot \\omega^{-\\Gamma_{\\mathrm{inj}} + 1 } e^{-\\frac{E_0}{E_{\\mathrm{cut}}} \\omega} \\int^{t_{\\mathrm{age}}}_{t_{\\mathrm{rel}}(\\omega)} dz \\, \\frac{1}{\\left( 1 + z \\right)^{\\alpha}}\n",
    "\\end{align}\n",
    "$$"
   ]
  },
  {
   "cell_type": "code",
   "execution_count": 12,
   "metadata": {},
   "outputs": [
    {
     "name": "stdout",
     "output_type": "stream",
     "text": [
      "Energy budget in protons of object 0 = 1.6339247631243134e+49 [erg]\n",
      "Energy budget in protons of object 1 = 2.0695035315743084e+49 [erg]\n",
      "Energy budget in protons of object 2 = 2.4251652093477914e+49 [erg]\n"
     ]
    }
   ],
   "source": [
    "def f_time(z):\n",
    "    return pow(1 + z, - alpha_dec)\n",
    "\n",
    "\n",
    "integration_var_omega = np.logspace(np.log10(1./ref_E_0), np.log10(max(E_e)/ref_E_0), num=len(E_e))\n",
    "integrand_temp = np.zeros( (considered_objects,len(E_e)) )\n",
    "integrand_omega = np.zeros( (considered_objects,len(E_e)) )\n",
    "t_rel_E_omega = np.zeros(len(E_e))\n",
    "\n",
    "\n",
    "for ic in range(considered_objects):\n",
    "\n",
    "    for ie in range(len(E_e)):\n",
    "\n",
    "        integrand_temp[ic][ie] = integration_var_omega[ie]**(-gamma_inj + 1) * np.exp(- (ref_E_0/Exp_cutoff) * integration_var_omega[ie])\n",
    "        \n",
    "        ## When this energy is released\n",
    "        t_rel_E_omega[ie] = t_range_release[np.argmin(abs(E_e[ie] - Escape_energy_vs_time))]*1.e+3\n",
    "\n",
    "        integral_time, error_time = integrate.quad(f_time, t_rel_E_omega[ie]/tau_dec, object_age[ic]/tau_dec)\n",
    "\n",
    "        \n",
    "        if (t_rel_E_omega[ie]/tau_dec < object_age[ic]/tau_dec):\n",
    "            integrand_omega[ic][ie] = integrand_temp[ic][ie] * integral_time\n",
    "            \n",
    "    \n",
    "\n",
    "Energy_budget_EnDepRelease = N_0 * tau_dec*conv_factor_yr_to_sec * integrate.trapz(integrand_omega, integration_var_omega)\n",
    "        \n",
    "    \n",
    "for ic in range(considered_objects):\n",
    "    print ('Energy budget in protons of object', ic, '=', Energy_budget_EnDepRelease[ic]*conv_factor_GeV_to_erg, '[erg]')\n"
   ]
  },
  {
   "cell_type": "code",
   "execution_count": null,
   "metadata": {},
   "outputs": [],
   "source": []
  }
 ],
 "metadata": {
  "kernelspec": {
   "display_name": "Python 3",
   "language": "python",
   "name": "python3"
  },
  "language_info": {
   "codemirror_mode": {
    "name": "ipython",
    "version": 3
   },
   "file_extension": ".py",
   "mimetype": "text/x-python",
   "name": "python",
   "nbconvert_exporter": "python",
   "pygments_lexer": "ipython3",
   "version": "3.7.7"
  }
 },
 "nbformat": 4,
 "nbformat_minor": 2
}
